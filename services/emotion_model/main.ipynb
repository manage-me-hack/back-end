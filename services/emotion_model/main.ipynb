{
 "metadata": {
  "language_info": {
   "codemirror_mode": {
    "name": "ipython",
    "version": 3
   },
   "file_extension": ".py",
   "mimetype": "text/x-python",
   "name": "python",
   "nbconvert_exporter": "python",
   "pygments_lexer": "ipython3",
   "version": "3.8.5-final"
  },
  "orig_nbformat": 2,
  "kernelspec": {
   "name": "python3",
   "display_name": "Python 3.8.5 64-bit ('env': venv)",
   "metadata": {
    "interpreter": {
     "hash": "2f13654a0340ce311641ce80f34fd46d82ffa6795abeaf6a592c9f1f21ef2789"
    }
   }
  }
 },
 "nbformat": 4,
 "nbformat_minor": 2,
 "cells": [
  {
   "cell_type": "code",
   "execution_count": 20,
   "metadata": {},
   "outputs": [
    {
     "output_type": "stream",
     "name": "stdout",
     "text": [
      "Index(['anger', 'contempt', 'disgust', 'fear', 'happiness', 'neutral',\n       'sadness', 'surprise', 'class'],\n      dtype='object')\nIndex(['anger', 'contempt', 'disgust', 'fear', 'happiness', 'neutral',\n       'sadness', 'surprise', 'class'],\n      dtype='object')\nIndex(['anger', 'contempt', 'disgust', 'fear', 'happiness', 'neutral',\n       'sadness', 'surprise', 'class'],\n      dtype='object')\nIndex(['anger', 'contempt', 'disgust', 'fear', 'happiness', 'neutral',\n       'sadness', 'surprise', 'class'],\n      dtype='object')\nIndex(['anger', 'contempt', 'disgust', 'fear', 'happiness', 'neutral',\n       'sadness', 'surprise', 'class'],\n      dtype='object')\nIndex(['anger', 'contempt', 'disgust', 'fear', 'happiness', 'neutral',\n       'sadness', 'surprise', 'class'],\n      dtype='object')\n989\n"
     ]
    }
   ],
   "source": [
    "import pandas as pd\n",
    "\n",
    "paths = {\n",
    "    'alert_train': '../../dataset/alert_train.csv',\n",
    "    'alert_test': '../../dataset/alert_test.csv',\n",
    "    'non_vigilant_train': '../../dataset/non_vigilant_train.csv',\n",
    "    'non_vigilant_test': '../../dataset/non_vigilant_test.csv',\n",
    "    'tired_train': '../../dataset/tired_train.csv',\n",
    "    'tired_test': '../../dataset/tired_test.csv'\n",
    "}\n",
    "df = {}\n",
    "x_train = []\n",
    "x_text = []\n",
    "y_train = []\n",
    "y_text = []\n",
    "\n",
    "cols = ['anger','contempt','disgust','fear','happiness','neutral','sadness','surprise']\n",
    "\n",
    "\n",
    "\n",
    "for key, path in paths.items():\n",
    "    df[key] = pd.read_csv(path)\n",
    "    print(df[key].columns)\n",
    "\n",
    "print(list(df['alert_train']['anger']))"
   ]
  },
  {
   "cell_type": "code",
   "execution_count": null,
   "metadata": {},
   "outputs": [],
   "source": []
  }
 ]
}